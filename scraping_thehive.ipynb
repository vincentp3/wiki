{
  "nbformat": 4,
  "nbformat_minor": 0,
  "metadata": {
    "colab": {
      "name": "scraping_thehive",
      "provenance": [],
      "collapsed_sections": [],
      "authorship_tag": "ABX9TyNnJ7c/PBcE8z5X6co9aOwt",
      "include_colab_link": true
    },
    "kernelspec": {
      "name": "python3",
      "display_name": "Python 3"
    },
    "language_info": {
      "name": "python"
    }
  },
  "cells": [
    {
      "cell_type": "markdown",
      "metadata": {
        "id": "view-in-github",
        "colab_type": "text"
      },
      "source": [
        "<a href=\"https://colab.research.google.com/github/vincentp3/wiki/blob/main/scraping_thehive.ipynb\" target=\"_parent\"><img src=\"https://colab.research.google.com/assets/colab-badge.svg\" alt=\"Open In Colab\"/></a>"
      ]
    },
    {
      "cell_type": "code",
      "execution_count": 4,
      "metadata": {
        "colab": {
          "base_uri": "https://localhost:8080/"
        },
        "id": "LeHMrV9XfJq2",
        "outputId": "4a6826e1-8bc4-4bb1-d92b-f442a89c7a37"
      },
      "outputs": [
        {
          "output_type": "stream",
          "name": "stdout",
          "text": [
            "Search Images Maps Play YouTube News Gmail Drive More »\n",
            "Web History | Settings | Sign in\n",
            "\n",
            "\n",
            "Advertising ProgramsBusiness SolutionsAbout Google\n"
          ]
        }
      ],
      "source": [
        "# source : https://www.dataquest.io/blog/web-scraping-python-using-beautiful-soup/\n",
        "\n",
        "import requests\n",
        "from bs4 import BeautifulSoup\n",
        "\n",
        "url = \"https://google.com\" # mettre ici l'url thehive\n",
        "\n",
        "page = requests.get(url)\n",
        "soup = BeautifulSoup(page.content, 'html.parser')\n",
        "\n",
        "# trouver les éléments par type et classe\n",
        "instances  = soup.find_all('p', class_='nice_class') # ici trouver tous les paragraphes de la classe nice_class\n",
        "instances  = soup.select(\"p.nice_class\") # autre méthode\n",
        "instances  = soup.select(\"div#main\") # sélection de la div ayant l'id main\n",
        "instances  = soup.select(\"div div\") # sélection de toutes les div ayant pour parent une div\n",
        "\n",
        "# afficher et manipuler le texte des balises sélectionnées\n",
        "for inst in instances :\n",
        "  txt = inst.get_text()\n",
        "  print(txt)\n"
      ]
    }
  ]
}